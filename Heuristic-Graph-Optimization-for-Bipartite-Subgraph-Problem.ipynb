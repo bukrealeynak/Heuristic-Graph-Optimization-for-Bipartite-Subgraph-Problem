{
  "nbformat": 4,
  "nbformat_minor": 0,
  "metadata": {
    "colab": {
      "provenance": []
    },
    "kernelspec": {
      "name": "python3",
      "display_name": "Python 3"
    },
    "language_info": {
      "name": "python"
    }
  },
  "cells": [
    {
      "cell_type": "code",
      "execution_count": 105,
      "metadata": {
        "id": "3ha8wer5rqTc"
      },
      "outputs": [],
      "source": [
        "import random\n",
        "\n",
        "def generate_random_bipartite_graph(num_vertices, edge_probability):\n",
        "    G = [[0] * num_vertices for i in range(num_vertices)]\n",
        "    for i in range(num_vertices):\n",
        "        for j in range(i+1, num_vertices):\n",
        "            if random.random() < edge_probability:\n",
        "                G[i][j] = 1\n",
        "                G[j][i] = 1\n",
        "    return G\n",
        "\n",
        "def generate_random_bipartite_subgraph(G):\n",
        "    n = len(G)\n",
        "    for i in range(1, 2**n):\n",
        "        S = set()\n",
        "        T = set()\n",
        "        for j in range(n):\n",
        "            if (i >> j) & 1:\n",
        "                T.add(j)\n",
        "            else:\n",
        "                S.add(j)\n",
        "        bipartite = True\n",
        "        for u in S:\n",
        "            for v in S:\n",
        "                if G[u][v] == 1:\n",
        "                    bipartite = False\n",
        "                    break\n",
        "            if not bipartite:\n",
        "                break\n",
        "        if bipartite:\n",
        "            return S, T\n",
        "    return None\n"
      ]
    },
    {
      "cell_type": "code",
      "source": [
        "G = generate_random_bipartite_graph(5, 0.5)\n",
        "print(G)\n",
        "\n",
        "S, T = generate_random_bipartite_subgraph(G)\n",
        "print(\"Bipartite subgraph found: S = {}, T = {}\".format(S, T))"
      ],
      "metadata": {
        "colab": {
          "base_uri": "https://localhost:8080/"
        },
        "id": "9k48P172r743",
        "outputId": "962b3eca-b380-46dc-c407-bc84825ef4ef"
      },
      "execution_count": 106,
      "outputs": [
        {
          "output_type": "stream",
          "name": "stdout",
          "text": [
            "[[0, 1, 0, 1, 0], [1, 0, 0, 0, 0], [0, 0, 0, 1, 1], [1, 0, 1, 0, 1], [0, 0, 1, 1, 0]]\n",
            "Bipartite subgraph found: S = {1, 4}, T = {0, 2, 3}\n"
          ]
        }
      ]
    },
    {
      "cell_type": "code",
      "source": [
        "def brute_force_bipartite_subgraph(G):\n",
        "    n = len(G)\n",
        "    for i in range(1, 2**n):\n",
        "        S = set()\n",
        "        T = set()\n",
        "        for j in range(n):\n",
        "            if (i >> j) & 1:\n",
        "                T.add(j)\n",
        "            else:\n",
        "                S.add(j)\n",
        "        bipartite = True\n",
        "        for u in S:\n",
        "            for v in S:\n",
        "                if G[u][v] == 1:\n",
        "                    bipartite = False\n",
        "                    break\n",
        "            if not bipartite:\n",
        "                break\n",
        "        if bipartite:\n",
        "            return S, T\n",
        "    return None\n"
      ],
      "metadata": {
        "id": "SJ3kwKq4x_8K"
      },
      "execution_count": 107,
      "outputs": []
    },
    {
      "cell_type": "code",
      "source": [
        "num_vertices = 4\n",
        "edge_probability = 0.5\n",
        "num_samples = 20\n",
        "\n",
        "for i in range(num_samples):\n",
        "    G = generate_random_bipartite_graph(num_vertices, edge_probability)\n",
        "    print(\"Sample graph {}: {}\".format(i+1, G))\n",
        "    bipartite_subgraph = brute_force_bipartite_subgraph(G)\n",
        "    if bipartite_subgraph is not None:\n",
        "        S, T = bipartite_subgraph\n",
        "        print(\"Bipartite subgraph found: S = {}, T = {}\".format(S, T))\n",
        "    else:\n",
        "        print(\"No bipartite subgraph found.\")\n",
        "    print()\n"
      ],
      "metadata": {
        "colab": {
          "base_uri": "https://localhost:8080/"
        },
        "id": "pClgPqOCyOTD",
        "outputId": "375b9a81-2113-490a-c494-e76b86e7a1af"
      },
      "execution_count": 108,
      "outputs": [
        {
          "output_type": "stream",
          "name": "stdout",
          "text": [
            "Sample graph 1: [[0, 1, 0, 0], [1, 0, 1, 0], [0, 1, 0, 1], [0, 0, 1, 0]]\n",
            "Bipartite subgraph found: S = {1, 3}, T = {0, 2}\n",
            "\n",
            "Sample graph 2: [[0, 0, 1, 1], [0, 0, 1, 0], [1, 1, 0, 1], [1, 0, 1, 0]]\n",
            "Bipartite subgraph found: S = {1, 3}, T = {0, 2}\n",
            "\n",
            "Sample graph 3: [[0, 1, 1, 1], [1, 0, 1, 0], [1, 1, 0, 1], [1, 0, 1, 0]]\n",
            "Bipartite subgraph found: S = {1, 3}, T = {0, 2}\n",
            "\n",
            "Sample graph 4: [[0, 0, 1, 0], [0, 0, 1, 1], [1, 1, 0, 0], [0, 1, 0, 0]]\n",
            "Bipartite subgraph found: S = {2, 3}, T = {0, 1}\n",
            "\n",
            "Sample graph 5: [[0, 0, 0, 1], [0, 0, 1, 1], [0, 1, 0, 0], [1, 1, 0, 0]]\n",
            "Bipartite subgraph found: S = {2, 3}, T = {0, 1}\n",
            "\n",
            "Sample graph 6: [[0, 1, 0, 0], [1, 0, 1, 0], [0, 1, 0, 1], [0, 0, 1, 0]]\n",
            "Bipartite subgraph found: S = {1, 3}, T = {0, 2}\n",
            "\n",
            "Sample graph 7: [[0, 1, 1, 1], [1, 0, 0, 0], [1, 0, 0, 1], [1, 0, 1, 0]]\n",
            "Bipartite subgraph found: S = {1, 3}, T = {0, 2}\n",
            "\n",
            "Sample graph 8: [[0, 0, 1, 1], [0, 0, 0, 0], [1, 0, 0, 1], [1, 0, 1, 0]]\n",
            "Bipartite subgraph found: S = {1, 3}, T = {0, 2}\n",
            "\n",
            "Sample graph 9: [[0, 1, 1, 0], [1, 0, 1, 0], [1, 1, 0, 1], [0, 0, 1, 0]]\n",
            "Bipartite subgraph found: S = {1, 3}, T = {0, 2}\n",
            "\n",
            "Sample graph 10: [[0, 1, 1, 1], [1, 0, 0, 1], [1, 0, 0, 0], [1, 1, 0, 0]]\n",
            "Bipartite subgraph found: S = {2, 3}, T = {0, 1}\n",
            "\n",
            "Sample graph 11: [[0, 1, 1, 1], [1, 0, 1, 0], [1, 1, 0, 0], [1, 0, 0, 0]]\n",
            "Bipartite subgraph found: S = {2, 3}, T = {0, 1}\n",
            "\n",
            "Sample graph 12: [[0, 1, 0, 1], [1, 0, 1, 1], [0, 1, 0, 0], [1, 1, 0, 0]]\n",
            "Bipartite subgraph found: S = {2, 3}, T = {0, 1}\n",
            "\n",
            "Sample graph 13: [[0, 1, 1, 0], [1, 0, 1, 1], [1, 1, 0, 0], [0, 1, 0, 0]]\n",
            "Bipartite subgraph found: S = {2, 3}, T = {0, 1}\n",
            "\n",
            "Sample graph 14: [[0, 0, 1, 0], [0, 0, 1, 1], [1, 1, 0, 1], [0, 1, 1, 0]]\n",
            "Bipartite subgraph found: S = {0, 3}, T = {1, 2}\n",
            "\n",
            "Sample graph 15: [[0, 1, 1, 0], [1, 0, 1, 0], [1, 1, 0, 1], [0, 0, 1, 0]]\n",
            "Bipartite subgraph found: S = {1, 3}, T = {0, 2}\n",
            "\n",
            "Sample graph 16: [[0, 0, 1, 1], [0, 0, 1, 1], [1, 1, 0, 0], [1, 1, 0, 0]]\n",
            "Bipartite subgraph found: S = {2, 3}, T = {0, 1}\n",
            "\n",
            "Sample graph 17: [[0, 1, 0, 0], [1, 0, 1, 1], [0, 1, 0, 1], [0, 1, 1, 0]]\n",
            "Bipartite subgraph found: S = {0, 3}, T = {1, 2}\n",
            "\n",
            "Sample graph 18: [[0, 0, 0, 1], [0, 0, 1, 0], [0, 1, 0, 1], [1, 0, 1, 0]]\n",
            "Bipartite subgraph found: S = {1, 3}, T = {0, 2}\n",
            "\n",
            "Sample graph 19: [[0, 1, 0, 1], [1, 0, 1, 0], [0, 1, 0, 0], [1, 0, 0, 0]]\n",
            "Bipartite subgraph found: S = {2, 3}, T = {0, 1}\n",
            "\n",
            "Sample graph 20: [[0, 1, 1, 0], [1, 0, 1, 1], [1, 1, 0, 0], [0, 1, 0, 0]]\n",
            "Bipartite subgraph found: S = {2, 3}, T = {0, 1}\n",
            "\n"
          ]
        }
      ]
    },
    {
      "cell_type": "code",
      "source": [
        "def is_bipartite(G, subgraph):\n",
        "    S = set()\n",
        "    T = set()\n",
        "    for edge in subgraph:\n",
        "        u, v = edge\n",
        "        if u in S and v in S:\n",
        "            return False\n",
        "        elif u in T and v in T:\n",
        "            return False\n",
        "        elif u not in S and u not in T:\n",
        "            S.add(u)\n",
        "        elif v not in S and v not in T:\n",
        "            T.add(v)\n",
        "    return True\n"
      ],
      "metadata": {
        "id": "p71Yk5S-WS3W"
      },
      "execution_count": 109,
      "outputs": []
    },
    {
      "cell_type": "code",
      "source": [
        "def heuristic_bipartite_subgraph(G, k):\n",
        "    F = set()  # Initialize an empty set of selected edges\n",
        "    while len(F) < k:\n",
        "        best_edge = None\n",
        "        best_bipartite = True\n",
        "        for u in range(len(G)):\n",
        "            for v in range(u+1, len(G)):\n",
        "                if G[u][v] == 1:\n",
        "                    F_prime = F.union({(u, v)})  # Add the current edge to F\n",
        "                    if not is_bipartite(G, F_prime):\n",
        "                        # If the subgraph is not bipartite, continue to the next edge\n",
        "                        continue\n",
        "                    # Check if the current bipartite subgraph is better than the previous best\n",
        "                    if len(F_prime) > len(F):\n",
        "                        best_edge = (u, v)\n",
        "                        F = F_prime\n",
        "        # If no suitable edge is found, terminate the loop\n",
        "        if best_edge is None:\n",
        "            break\n",
        "    return F\n"
      ],
      "metadata": {
        "id": "019LmWOtV86o"
      },
      "execution_count": 110,
      "outputs": []
    },
    {
      "cell_type": "code",
      "source": [
        "num_vertices = 4\n",
        "edge_probability = 0.5\n",
        "num_samples = 20\n",
        "\n",
        "for i in range(num_samples):\n",
        "    G = generate_random_bipartite_graph(num_vertices, edge_probability)\n",
        "    print(\"Sample graph {}: {}\".format(i+1, G))\n",
        "    bipartite_subgraph = heuristic_bipartite_subgraph(G, 4)  # Specify the value of k here\n",
        "    if bipartite_subgraph:\n",
        "        S = set(edge[0] for edge in bipartite_subgraph)\n",
        "        T = set(edge[1] for edge in bipartite_subgraph)\n",
        "        print(\"Bipartite subgraph found: S = {}, T = {}\".format(S, T))\n",
        "    else:\n",
        "        print(\"No bipartite subgraph found.\")\n",
        "    print()\n"
      ],
      "metadata": {
        "colab": {
          "base_uri": "https://localhost:8080/"
        },
        "id": "x3sUuxg6We0-",
        "outputId": "91069b3e-d6b7-464c-caae-e185ad196f6a"
      },
      "execution_count": 111,
      "outputs": [
        {
          "output_type": "stream",
          "name": "stdout",
          "text": [
            "Sample graph 1: [[0, 1, 0, 0], [1, 0, 1, 0], [0, 1, 0, 1], [0, 0, 1, 0]]\n",
            "Bipartite subgraph found: S = {0, 1, 2}, T = {1, 2, 3}\n",
            "\n",
            "Sample graph 2: [[0, 1, 0, 0], [1, 0, 1, 1], [0, 1, 0, 0], [0, 1, 0, 0]]\n",
            "Bipartite subgraph found: S = {0, 1}, T = {1, 2, 3}\n",
            "\n",
            "Sample graph 3: [[0, 0, 1, 1], [0, 0, 0, 1], [1, 0, 0, 1], [1, 1, 1, 0]]\n",
            "Bipartite subgraph found: S = {0, 1, 2}, T = {2, 3}\n",
            "\n",
            "Sample graph 4: [[0, 1, 0, 1], [1, 0, 1, 0], [0, 1, 0, 0], [1, 0, 0, 0]]\n",
            "Bipartite subgraph found: S = {0, 1}, T = {1, 2, 3}\n",
            "\n",
            "Sample graph 5: [[0, 0, 0, 1], [0, 0, 1, 0], [0, 1, 0, 1], [1, 0, 1, 0]]\n",
            "Bipartite subgraph found: S = {0, 1, 2}, T = {2, 3}\n",
            "\n",
            "Sample graph 6: [[0, 0, 1, 0], [0, 0, 1, 0], [1, 1, 0, 1], [0, 0, 1, 0]]\n",
            "Bipartite subgraph found: S = {0, 1, 2}, T = {2, 3}\n",
            "\n",
            "Sample graph 7: [[0, 1, 0, 1], [1, 0, 0, 1], [0, 0, 0, 1], [1, 1, 1, 0]]\n",
            "Bipartite subgraph found: S = {0, 1, 2}, T = {1, 3}\n",
            "\n",
            "Sample graph 8: [[0, 0, 0, 0], [0, 0, 1, 0], [0, 1, 0, 1], [0, 0, 1, 0]]\n",
            "Bipartite subgraph found: S = {1, 2}, T = {2, 3}\n",
            "\n",
            "Sample graph 9: [[0, 1, 1, 1], [1, 0, 0, 0], [1, 0, 0, 1], [1, 0, 1, 0]]\n",
            "Bipartite subgraph found: S = {0}, T = {1, 2, 3}\n",
            "\n",
            "Sample graph 10: [[0, 1, 0, 0], [1, 0, 0, 0], [0, 0, 0, 0], [0, 0, 0, 0]]\n",
            "Bipartite subgraph found: S = {0}, T = {1}\n",
            "\n",
            "Sample graph 11: [[0, 0, 1, 1], [0, 0, 0, 0], [1, 0, 0, 0], [1, 0, 0, 0]]\n",
            "Bipartite subgraph found: S = {0}, T = {2, 3}\n",
            "\n",
            "Sample graph 12: [[0, 0, 0, 1], [0, 0, 0, 0], [0, 0, 0, 1], [1, 0, 1, 0]]\n",
            "Bipartite subgraph found: S = {0, 2}, T = {3}\n",
            "\n",
            "Sample graph 13: [[0, 1, 0, 0], [1, 0, 1, 1], [0, 1, 0, 1], [0, 1, 1, 0]]\n",
            "Bipartite subgraph found: S = {0, 1, 2}, T = {1, 2, 3}\n",
            "\n",
            "Sample graph 14: [[0, 0, 1, 0], [0, 0, 1, 0], [1, 1, 0, 1], [0, 0, 1, 0]]\n",
            "Bipartite subgraph found: S = {0, 1, 2}, T = {2, 3}\n",
            "\n",
            "Sample graph 15: [[0, 0, 1, 0], [0, 0, 1, 0], [1, 1, 0, 0], [0, 0, 0, 0]]\n",
            "Bipartite subgraph found: S = {0, 1}, T = {2}\n",
            "\n",
            "Sample graph 16: [[0, 0, 1, 0], [0, 0, 1, 1], [1, 1, 0, 1], [0, 1, 1, 0]]\n",
            "Bipartite subgraph found: S = {0, 1, 2}, T = {2, 3}\n",
            "\n",
            "Sample graph 17: [[0, 1, 1, 1], [1, 0, 0, 0], [1, 0, 0, 1], [1, 0, 1, 0]]\n",
            "Bipartite subgraph found: S = {0}, T = {1, 2, 3}\n",
            "\n",
            "Sample graph 18: [[0, 1, 1, 0], [1, 0, 1, 1], [1, 1, 0, 1], [0, 1, 1, 0]]\n",
            "Bipartite subgraph found: S = {0, 1}, T = {1, 2, 3}\n",
            "\n",
            "Sample graph 19: [[0, 1, 0, 1], [1, 0, 0, 1], [0, 0, 0, 0], [1, 1, 0, 0]]\n",
            "Bipartite subgraph found: S = {0, 1}, T = {1, 3}\n",
            "\n",
            "Sample graph 20: [[0, 1, 1, 0], [1, 0, 0, 0], [1, 0, 0, 0], [0, 0, 0, 0]]\n",
            "Bipartite subgraph found: S = {0}, T = {1, 2}\n",
            "\n"
          ]
        }
      ]
    },
    {
      "cell_type": "code",
      "source": [
        "# 6. Experimental Analysis of The Performance (Performance Testing)\n",
        "\n",
        "import random\n",
        "\n",
        "# Define the range of graph sizes and densities\n",
        "graph_sizes = list(range(10, 20, 10))\n",
        "edge_probabilities = [0.1, 0.2, 0.3, 0.4, 0.5, 0.6, 0.7, 0.8, 0.9]\n",
        "\n",
        "# Generate bipartite graphs for each combination of size and density\n",
        "graphs = []\n",
        "for size in graph_sizes:\n",
        "    for prob in edge_probabilities:\n",
        "        graph = generate_random_bipartite_graph(size, prob)\n",
        "        graphs.append(graph)\n",
        "\n",
        "# Print the generated graphs\n",
        "for i, graph in enumerate(graphs):\n",
        "    print(f\"Graph {i+1}: {graph}\")\n"
      ],
      "metadata": {
        "colab": {
          "base_uri": "https://localhost:8080/"
        },
        "id": "0BnHL3SDltmH",
        "outputId": "5414fdeb-b284-4602-d826-a142c01bec02"
      },
      "execution_count": 112,
      "outputs": [
        {
          "output_type": "stream",
          "name": "stdout",
          "text": [
            "Graph 1: [[0, 0, 0, 1, 0, 0, 0, 0, 0, 1], [0, 0, 0, 0, 0, 0, 0, 0, 0, 0], [0, 0, 0, 0, 0, 0, 0, 0, 0, 0], [1, 0, 0, 0, 0, 0, 0, 0, 0, 0], [0, 0, 0, 0, 0, 0, 0, 0, 0, 0], [0, 0, 0, 0, 0, 0, 0, 0, 0, 0], [0, 0, 0, 0, 0, 0, 0, 0, 0, 0], [0, 0, 0, 0, 0, 0, 0, 0, 0, 0], [0, 0, 0, 0, 0, 0, 0, 0, 0, 0], [1, 0, 0, 0, 0, 0, 0, 0, 0, 0]]\n",
            "Graph 2: [[0, 1, 0, 0, 0, 0, 1, 0, 0, 0], [1, 0, 1, 0, 0, 0, 0, 1, 0, 0], [0, 1, 0, 0, 0, 0, 1, 0, 0, 0], [0, 0, 0, 0, 0, 0, 0, 0, 1, 1], [0, 0, 0, 0, 0, 0, 0, 0, 0, 1], [0, 0, 0, 0, 0, 0, 0, 0, 1, 0], [1, 0, 1, 0, 0, 0, 0, 0, 0, 0], [0, 1, 0, 0, 0, 0, 0, 0, 1, 1], [0, 0, 0, 1, 0, 1, 0, 1, 0, 0], [0, 0, 0, 1, 1, 0, 0, 1, 0, 0]]\n",
            "Graph 3: [[0, 1, 0, 0, 0, 1, 1, 0, 0, 0], [1, 0, 0, 1, 0, 0, 0, 0, 0, 1], [0, 0, 0, 0, 1, 1, 1, 0, 0, 1], [0, 1, 0, 0, 0, 0, 0, 0, 0, 0], [0, 0, 1, 0, 0, 0, 0, 0, 0, 0], [1, 0, 1, 0, 0, 0, 0, 1, 0, 1], [1, 0, 1, 0, 0, 0, 0, 0, 1, 0], [0, 0, 0, 0, 0, 1, 0, 0, 0, 0], [0, 0, 0, 0, 0, 0, 1, 0, 0, 0], [0, 1, 1, 0, 0, 1, 0, 0, 0, 0]]\n",
            "Graph 4: [[0, 0, 0, 0, 0, 0, 1, 0, 1, 1], [0, 0, 0, 0, 1, 0, 0, 0, 0, 0], [0, 0, 0, 1, 1, 1, 1, 0, 1, 1], [0, 0, 1, 0, 1, 0, 0, 0, 1, 0], [0, 1, 1, 1, 0, 1, 0, 0, 0, 1], [0, 0, 1, 0, 1, 0, 0, 0, 0, 1], [1, 0, 1, 0, 0, 0, 0, 0, 0, 1], [0, 0, 0, 0, 0, 0, 0, 0, 1, 0], [1, 0, 1, 1, 0, 0, 0, 1, 0, 0], [1, 0, 1, 0, 1, 1, 1, 0, 0, 0]]\n",
            "Graph 5: [[0, 1, 1, 1, 0, 1, 1, 0, 0, 0], [1, 0, 1, 1, 0, 1, 0, 0, 0, 0], [1, 1, 0, 1, 1, 1, 0, 1, 1, 0], [1, 1, 1, 0, 1, 0, 0, 1, 1, 0], [0, 0, 1, 1, 0, 0, 0, 1, 1, 1], [1, 1, 1, 0, 0, 0, 1, 0, 0, 0], [1, 0, 0, 0, 0, 1, 0, 1, 1, 0], [0, 0, 1, 1, 1, 0, 1, 0, 1, 0], [0, 0, 1, 1, 1, 0, 1, 1, 0, 0], [0, 0, 0, 0, 1, 0, 0, 0, 0, 0]]\n",
            "Graph 6: [[0, 1, 0, 1, 1, 1, 1, 1, 1, 1], [1, 0, 1, 0, 0, 1, 0, 1, 1, 1], [0, 1, 0, 1, 1, 0, 1, 1, 0, 0], [1, 0, 1, 0, 1, 1, 1, 1, 1, 1], [1, 0, 1, 1, 0, 1, 1, 1, 1, 1], [1, 1, 0, 1, 1, 0, 1, 0, 0, 0], [1, 0, 1, 1, 1, 1, 0, 1, 0, 0], [1, 1, 1, 1, 1, 0, 1, 0, 1, 1], [1, 1, 0, 1, 1, 0, 0, 1, 0, 0], [1, 1, 0, 1, 1, 0, 0, 1, 0, 0]]\n",
            "Graph 7: [[0, 1, 1, 1, 1, 1, 0, 0, 1, 1], [1, 0, 1, 1, 0, 1, 0, 1, 0, 0], [1, 1, 0, 1, 0, 0, 1, 1, 1, 0], [1, 1, 1, 0, 0, 1, 0, 0, 0, 1], [1, 0, 0, 0, 0, 1, 1, 0, 1, 0], [1, 1, 0, 1, 1, 0, 1, 1, 1, 1], [0, 0, 1, 0, 1, 1, 0, 1, 1, 1], [0, 1, 1, 0, 0, 1, 1, 0, 0, 1], [1, 0, 1, 0, 1, 1, 1, 0, 0, 1], [1, 0, 0, 1, 0, 1, 1, 1, 1, 0]]\n",
            "Graph 8: [[0, 1, 1, 1, 1, 0, 1, 0, 1, 1], [1, 0, 1, 1, 1, 1, 1, 1, 1, 1], [1, 1, 0, 1, 0, 0, 1, 1, 1, 0], [1, 1, 1, 0, 1, 1, 1, 1, 1, 1], [1, 1, 0, 1, 0, 0, 1, 0, 1, 1], [0, 1, 0, 1, 0, 0, 1, 1, 0, 1], [1, 1, 1, 1, 1, 1, 0, 0, 1, 1], [0, 1, 1, 1, 0, 1, 0, 0, 1, 1], [1, 1, 1, 1, 1, 0, 1, 1, 0, 1], [1, 1, 0, 1, 1, 1, 1, 1, 1, 0]]\n",
            "Graph 9: [[0, 0, 1, 1, 1, 1, 1, 1, 1, 1], [0, 0, 1, 1, 1, 1, 1, 1, 0, 1], [1, 1, 0, 1, 1, 1, 1, 1, 1, 1], [1, 1, 1, 0, 1, 1, 1, 1, 1, 0], [1, 1, 1, 1, 0, 1, 1, 0, 1, 0], [1, 1, 1, 1, 1, 0, 1, 0, 1, 1], [1, 1, 1, 1, 1, 1, 0, 1, 1, 1], [1, 1, 1, 1, 0, 0, 1, 0, 1, 1], [1, 0, 1, 1, 1, 1, 1, 1, 0, 1], [1, 1, 1, 0, 0, 1, 1, 1, 1, 0]]\n"
          ]
        }
      ]
    },
    {
      "cell_type": "code",
      "source": [
        "import time\n",
        "\n",
        "# List to store computation times\n",
        "brute_force_times = []\n",
        "\n",
        "# Run brute force algorithm for each graph\n",
        "for i, graph in enumerate(graphs):\n",
        "    # Start the timer\n",
        "    start_time = time.time()\n",
        "\n",
        "    # Run the brute force algorithm\n",
        "    bipartite_subgraph = brute_force_bipartite_subgraph(graph)\n",
        "\n",
        "    # Stop the timer and calculate the computation time\n",
        "    end_time = time.time()\n",
        "    computation_time = end_time - start_time\n",
        "\n",
        "    # Store the computation time\n",
        "    brute_force_times.append(computation_time)\n",
        "\n",
        "    # Print the result for the current graph\n",
        "    if bipartite_subgraph is not None:\n",
        "        S, T = bipartite_subgraph\n",
        "        print(f\"Graph {i+1}: Bipartite subgraph found - S = {S}, T = {T}\")\n",
        "    else:\n",
        "        print(f\"Graph {i+1}: No bipartite subgraph found.\")\n",
        "\n",
        "    # Print the computation time\n",
        "    print(f\"Computation time: {computation_time} seconds\")\n",
        "    print()\n",
        "\n",
        "# Print the computation times for all graphs\n",
        "print(\"Brute Force Computation Times:\")\n",
        "for i, time in enumerate(brute_force_times):\n",
        "    print(f\"Graph {i+1}: {time} seconds\")\n"
      ],
      "metadata": {
        "colab": {
          "base_uri": "https://localhost:8080/"
        },
        "id": "NNozbHvZqxGs",
        "outputId": "856ac33f-3234-44c9-fe84-c43a16fd1653"
      },
      "execution_count": 113,
      "outputs": [
        {
          "output_type": "stream",
          "name": "stdout",
          "text": [
            "Graph 1: Bipartite subgraph found - S = {1, 2, 3, 4, 5, 6, 7, 8, 9}, T = {0}\n",
            "Computation time: 2.5510787963867188e-05 seconds\n",
            "\n",
            "Graph 2: Bipartite subgraph found - S = {8, 1, 6, 9}, T = {0, 2, 3, 4, 5, 7}\n",
            "Computation time: 0.0007002353668212891 seconds\n",
            "\n",
            "Graph 3: Bipartite subgraph found - S = {0, 3, 4, 7, 8, 9}, T = {1, 2, 5, 6}\n",
            "Computation time: 0.0003936290740966797 seconds\n",
            "\n",
            "Graph 4: Bipartite subgraph found - S = {8, 1, 9}, T = {0, 2, 3, 4, 5, 6, 7}\n",
            "Computation time: 0.0006492137908935547 seconds\n",
            "\n",
            "Graph 5: Bipartite subgraph found - S = {8, 9, 5}, T = {0, 1, 2, 3, 4, 6, 7}\n",
            "Computation time: 0.0007500648498535156 seconds\n",
            "\n",
            "Graph 6: Bipartite subgraph found - S = {8, 9, 6}, T = {0, 1, 2, 3, 4, 5, 7}\n",
            "Computation time: 0.0007085800170898438 seconds\n",
            "\n",
            "Graph 7: Bipartite subgraph found - S = {9, 2, 4}, T = {0, 1, 3, 5, 6, 7, 8}\n",
            "Computation time: 0.0012772083282470703 seconds\n",
            "\n",
            "Graph 8: Bipartite subgraph found - S = {9, 2}, T = {0, 1, 3, 4, 5, 6, 7, 8}\n",
            "Computation time: 0.0018086433410644531 seconds\n",
            "\n",
            "Graph 9: Bipartite subgraph found - S = {9, 4}, T = {0, 1, 2, 3, 5, 6, 7, 8}\n",
            "Computation time: 0.001661539077758789 seconds\n",
            "\n",
            "Brute Force Computation Times:\n",
            "Graph 1: 2.5510787963867188e-05 seconds\n",
            "Graph 2: 0.0007002353668212891 seconds\n",
            "Graph 3: 0.0003936290740966797 seconds\n",
            "Graph 4: 0.0006492137908935547 seconds\n",
            "Graph 5: 0.0007500648498535156 seconds\n",
            "Graph 6: 0.0007085800170898438 seconds\n",
            "Graph 7: 0.0012772083282470703 seconds\n",
            "Graph 8: 0.0018086433410644531 seconds\n",
            "Graph 9: 0.001661539077758789 seconds\n"
          ]
        }
      ]
    },
    {
      "cell_type": "code",
      "source": [
        "import time\n",
        "\n",
        "# List to store computation times\n",
        "heuristic_times = []\n",
        "\n",
        "# Run heuristic algorithm for each graph\n",
        "for i, graph in enumerate(graphs):\n",
        "    # Start the timer\n",
        "    start_time = time.time()\n",
        "\n",
        "    # Run the heuristic algorithm\n",
        "    bipartite_subgraph = heuristic_bipartite_subgraph(graph, k)\n",
        "\n",
        "    # Stop the timer and calculate the computation time\n",
        "    end_time = time.time()\n",
        "    computation_time = end_time - start_time\n",
        "\n",
        "    # Store the computation time\n",
        "    heuristic_times.append(computation_time)\n",
        "\n",
        "    # Print the result for the current graph\n",
        "    if bipartite_subgraph is not None:\n",
        "        subgraph_size = len(bipartite_subgraph)\n",
        "        print(f\"Graph {i+1}: Bipartite subgraph found - Size: {subgraph_size}\")\n",
        "    else:\n",
        "        print(f\"Graph {i+1}: No bipartite subgraph found.\")\n",
        "\n",
        "    # Print the computation time\n",
        "    print(f\"Computation time: {computation_time} seconds\")\n",
        "    print()\n",
        "\n",
        "# Print the computation times for all graphs\n",
        "print(\"Heuristic Algorithm Computation Times:\")\n",
        "for i, time in enumerate(heuristic_times):\n",
        "    print(f\"Graph {i+1}: {time} seconds\")\n"
      ],
      "metadata": {
        "colab": {
          "base_uri": "https://localhost:8080/"
        },
        "id": "Il5R7PFGsC-h",
        "outputId": "0b24ecbc-d068-46f8-89ca-3ba68f3f2431"
      },
      "execution_count": 114,
      "outputs": [
        {
          "output_type": "stream",
          "name": "stdout",
          "text": [
            "Graph 1: Bipartite subgraph found - Size: 2\n",
            "Computation time: 3.0040740966796875e-05 seconds\n",
            "\n",
            "Graph 2: Bipartite subgraph found - Size: 10\n",
            "Computation time: 3.8623809814453125e-05 seconds\n",
            "\n",
            "Graph 3: Bipartite subgraph found - Size: 9\n",
            "Computation time: 4.1484832763671875e-05 seconds\n",
            "\n",
            "Graph 4: Bipartite subgraph found - Size: 13\n",
            "Computation time: 5.078315734863281e-05 seconds\n",
            "\n",
            "Graph 5: Bipartite subgraph found - Size: 12\n",
            "Computation time: 0.00010275840759277344 seconds\n",
            "\n",
            "Graph 6: Bipartite subgraph found - Size: 19\n",
            "Computation time: 0.0001804828643798828 seconds\n",
            "\n",
            "Graph 7: Bipartite subgraph found - Size: 16\n",
            "Computation time: 0.00014972686767578125 seconds\n",
            "\n",
            "Graph 8: Bipartite subgraph found - Size: 17\n",
            "Computation time: 0.00020241737365722656 seconds\n",
            "\n",
            "Graph 9: Bipartite subgraph found - Size: 17\n",
            "Computation time: 0.00021266937255859375 seconds\n",
            "\n",
            "Heuristic Algorithm Computation Times:\n",
            "Graph 1: 3.0040740966796875e-05 seconds\n",
            "Graph 2: 3.8623809814453125e-05 seconds\n",
            "Graph 3: 4.1484832763671875e-05 seconds\n",
            "Graph 4: 5.078315734863281e-05 seconds\n",
            "Graph 5: 0.00010275840759277344 seconds\n",
            "Graph 6: 0.0001804828643798828 seconds\n",
            "Graph 7: 0.00014972686767578125 seconds\n",
            "Graph 8: 0.00020241737365722656 seconds\n",
            "Graph 9: 0.00021266937255859375 seconds\n"
          ]
        }
      ]
    },
    {
      "cell_type": "code",
      "source": [
        "# List to store solution quality metrics\n",
        "solution_quality = []\n",
        "\n",
        "# Run the brute force algorithm and measure solution quality\n",
        "for i, graph in enumerate(graphs):\n",
        "    # Run the brute force algorithm to find the exact solution\n",
        "    exact_solution = brute_force_bipartite_subgraph(graph)\n",
        "\n",
        "    # Run the heuristic algorithm to find the approximate solution\n",
        "    heuristic_solution = heuristic_bipartite_subgraph(graph, k)\n",
        "\n",
        "    # Calculate the number of edges in each solution\n",
        "    if exact_solution is not None:\n",
        "        exact_edges = sum([len(edge) for edge in exact_solution])\n",
        "    else:\n",
        "        exact_edges = 0\n",
        "\n",
        "    if heuristic_solution is not None:\n",
        "        heuristic_edges = sum([len(edge) for edge in heuristic_solution])\n",
        "    else:\n",
        "        heuristic_edges = 0\n",
        "\n",
        "    # Calculate the solution quality metric (ratio of heuristic edges to exact edges)\n",
        "    quality_metric = heuristic_edges / exact_edges if exact_edges > 0 else 0\n",
        "\n",
        "    # Store the solution quality metric\n",
        "    solution_quality.append(quality_metric)\n",
        "\n",
        "    # Print the result for the current graph\n",
        "    print(f\"Graph {i+1}: Solution Quality - {quality_metric}\")\n",
        "    print()\n",
        "\n",
        "# Print the solution quality metrics for all graphs\n",
        "print(\"Solution Quality Metrics:\")\n",
        "for i, metric in enumerate(solution_quality):\n",
        "    print(f\"Graph {i+1}: {metric}\")\n"
      ],
      "metadata": {
        "colab": {
          "base_uri": "https://localhost:8080/"
        },
        "id": "pj0n7NFetQhW",
        "outputId": "67875efe-068a-42f3-84e1-11b7c4443053"
      },
      "execution_count": 115,
      "outputs": [
        {
          "output_type": "stream",
          "name": "stdout",
          "text": [
            "Graph 1: Solution Quality - 0.4\n",
            "\n",
            "Graph 2: Solution Quality - 2.0\n",
            "\n",
            "Graph 3: Solution Quality - 1.8\n",
            "\n",
            "Graph 4: Solution Quality - 2.6\n",
            "\n",
            "Graph 5: Solution Quality - 2.4\n",
            "\n",
            "Graph 6: Solution Quality - 3.8\n",
            "\n",
            "Graph 7: Solution Quality - 3.2\n",
            "\n",
            "Graph 8: Solution Quality - 3.4\n",
            "\n",
            "Graph 9: Solution Quality - 3.4\n",
            "\n",
            "Solution Quality Metrics:\n",
            "Graph 1: 0.4\n",
            "Graph 2: 2.0\n",
            "Graph 3: 1.8\n",
            "Graph 4: 2.6\n",
            "Graph 5: 2.4\n",
            "Graph 6: 3.8\n",
            "Graph 7: 3.2\n",
            "Graph 8: 3.4\n",
            "Graph 9: 3.4\n"
          ]
        }
      ]
    },
    {
      "cell_type": "code",
      "source": [
        "import numpy as np\n",
        "import matplotlib.pyplot as plt\n",
        "\n",
        "# Example data (replace with your own data)\n",
        "graph_sizes = [10, 20, 30, 40, 50]\n",
        "brute_force_times = [0.5, 1.2, 2.1, 3.5, 4.2]\n",
        "heuristic_times = [0.3, 0.8, 1.5, 2.9, 3.7]\n",
        "\n",
        "# Check if the number of running times matches the number of graph sizes\n",
        "if len(brute_force_times) != len(graph_sizes) or len(heuristic_times) != len(graph_sizes):\n",
        "    raise ValueError(\"Number of running times does not match the number of graph sizes.\")\n",
        "\n",
        "# Plot the running time graph\n",
        "plt.figure(figsize=(10, 6))\n",
        "plt.plot(graph_sizes, brute_force_times, marker='o', label='Brute Force')\n",
        "plt.plot(graph_sizes, heuristic_times, marker='o', label='Heuristic')\n",
        "plt.xlabel('Graph Size')\n",
        "plt.ylabel('Running Time (s)')\n",
        "plt.title('Running Time Comparison')\n",
        "plt.legend()\n",
        "plt.grid(True)\n",
        "plt.show()\n"
      ],
      "metadata": {
        "id": "lmFY6UHCuPMc",
        "colab": {
          "base_uri": "https://localhost:8080/",
          "height": 564
        },
        "outputId": "5b26d0bf-7a58-4605-cad4-2a32cbab0ae6"
      },
      "execution_count": 116,
      "outputs": [
        {
          "output_type": "display_data",
          "data": {
            "text/plain": [
              "<Figure size 1000x600 with 1 Axes>"
            ],
            "image/png": "[encoded data removed]"
          },
          "metadata": {}
        }
      ]
    },
    {
      "cell_type": "code",
      "source": [
        "# Calculate descriptive statistics for the running time of the brute force algorithm\n",
        "brute_force_avg = np.mean(brute_force_times)\n",
        "brute_force_std = np.std(brute_force_times)\n",
        "\n",
        "# Calculate descriptive statistics for the running time of the heuristic algorithm\n",
        "heuristic_avg = np.mean(heuristic_times)\n",
        "heuristic_std = np.std(heuristic_times)\n",
        "\n",
        "# Print the descriptive statistics\n",
        "print('Brute Force - Average:', brute_force_avg)\n",
        "print('Brute Force - Standard Deviation:', brute_force_std)\n",
        "print('Heuristic - Average:', heuristic_avg)\n",
        "print('Heuristic - Standard Deviation:', heuristic_std)\n"
      ],
      "metadata": {
        "colab": {
          "base_uri": "https://localhost:8080/"
        },
        "id": "u-wQH1sw3jgP",
        "outputId": "b48f6212-01aa-4e4f-be2f-b7b9b080b080"
      },
      "execution_count": 117,
      "outputs": [
        {
          "output_type": "stream",
          "name": "stdout",
          "text": [
            "Brute Force - Average: 2.3\n",
            "Brute Force - Standard Deviation: 1.3813037319865606\n",
            "Heuristic - Average: 1.8399999999999999\n",
            "Heuristic - Standard Deviation: 1.2768711759609894\n"
          ]
        }
      ]
    },
    {
      "cell_type": "code",
      "source": [
        "import matplotlib.pyplot as plt\n",
        "import numpy as np\n",
        "from scipy.stats import linregress\n",
        "\n",
        "# Sizes of the input graphs\n",
        "graph_sizes = [4, 6, 8, 10, 12]\n",
        "\n",
        "# Solution quality metric (e.g., edge ratio)\n",
        "edge_ratios = [0.8, 0.85, 0.9, 0.92, 0.95]  # Example data\n",
        "\n",
        "# Fit a line to the measurement values using regression analysis\n",
        "slope, intercept, r_value, p_value, std_err = linregress(graph_sizes, edge_ratios)\n",
        "line = slope * np.array(graph_sizes) + intercept\n",
        "\n",
        "# Plot the solution quality metric\n",
        "plt.plot(graph_sizes, edge_ratios, marker='o', label='Edge Ratio')\n",
        "plt.plot(graph_sizes, line, '--', label='Regression Line')\n",
        "\n",
        "# Set the x-axis label and y-axis label\n",
        "plt.xlabel('Graph Size')\n",
        "plt.ylabel('Edge Ratio')\n",
        "\n",
        "# Add a title to the graph\n",
        "plt.title('Solution Quality')\n",
        "\n",
        "# Add a legend\n",
        "plt.legend()\n",
        "\n",
        "# Display the graph\n",
        "plt.show()\n"
      ],
      "metadata": {
        "colab": {
          "base_uri": "https://localhost:8080/",
          "height": 472
        },
        "id": "DQaLHnha6QEQ",
        "outputId": "09c8a3fe-46a5-49fd-bbd3-244e744e7bc4"
      },
      "execution_count": 118,
      "outputs": [
        {
          "output_type": "display_data",
          "data": {
            "text/plain": [
              "<Figure size 640x480 with 1 Axes>"
            ],
            "image/png": "[encoded data removed]"
          },
          "metadata": {}
        }
      ]
    },
    {
      "cell_type": "code",
      "source": [
        "# 7. Experimental Analysis of the Correctness (Functional Testing) "
      ],
      "metadata": {
        "id": "YP2q12ao6GVU"
      },
      "execution_count": 119,
      "outputs": []
    },
    {
      "cell_type": "code",
      "source": [
        "\n",
        "import random\n",
        "\n",
        "def generate_random_bipartite_graph(num_vertices, edge_probability):\n",
        "    G = [[0] * num_vertices for i in range(num_vertices)]\n",
        "    for i in range(num_vertices):\n",
        "        for j in range(i + 1, num_vertices):\n",
        "            if random.random() < edge_probability:\n",
        "                G[i][j] = 1\n",
        "                G[j][i] = 1\n",
        "    return G\n",
        "\n",
        "def is_bipartite(G, subgraph):\n",
        "    if subgraph is None or len(subgraph) == 0:\n",
        "        return False\n",
        "\n",
        "    S = set()\n",
        "    T = set()\n",
        "    for edge in subgraph:\n",
        "        if len(edge) != 2:\n",
        "            return False\n",
        "        u, v = edge\n",
        "        if u in S and v in S:\n",
        "            return False\n",
        "        elif u in T and v in T:\n",
        "            return False\n",
        "        elif u not in S and u not in T:\n",
        "            S.add(u)\n",
        "        elif v not in S and v not in T:\n",
        "            T.add(v)\n",
        "    return True\n",
        "\n",
        "\n",
        "def brute_force_bipartite_subgraph(G):\n",
        "    n = len(G)\n",
        "    for i in range(1, 2 ** n):\n",
        "        S = set()\n",
        "        T = set()\n",
        "        for j in range(n):\n",
        "            if (i >> j) & 1:\n",
        "                T.add(j)\n",
        "            else:\n",
        "                S.add(j)\n",
        "        bipartite = True\n",
        "        for u in S:\n",
        "            for v in S:\n",
        "                if G[u][v] == 1:\n",
        "                    bipartite = False\n",
        "                    break\n",
        "            if not bipartite:\n",
        "                break\n",
        "        if bipartite:\n",
        "            return S, T\n",
        "    return None\n",
        "\n",
        "def test_bipartite_subgraph():\n",
        "    num_vertices = 4\n",
        "    edge_probability = 0.5\n",
        "    num_samples = 20\n",
        "\n",
        "    for i in range(num_samples):\n",
        "        G = generate_random_bipartite_graph(num_vertices, edge_probability)\n",
        "        print(\"Sample graph {}: {}\".format(i+1, G))\n",
        "        bipartite_subgraph = brute_force_bipartite_subgraph(G)\n",
        "        if bipartite_subgraph is not None:\n",
        "            if is_bipartite(G, bipartite_subgraph):\n",
        "                S, T = bipartite_subgraph\n",
        "                print(\"Bipartite subgraph found: S = {}, T = {}\".format(S, T))\n",
        "            else:\n",
        "                print(\"Invalid bipartite subgraph found.\")\n",
        "        else:\n",
        "            print(\"No bipartite subgraph found.\")\n",
        "        print()\n",
        "\n",
        "test_bipartite_subgraph()"
      ],
      "metadata": {
        "colab": {
          "base_uri": "https://localhost:8080/"
        },
        "id": "Ea6dYi0G4o9Q",
        "outputId": "5c7cb1e7-5577-4aa0-b17d-9824487ea3a0"
      },
      "execution_count": 120,
      "outputs": [
        {
          "output_type": "stream",
          "name": "stdout",
          "text": [
            "Sample graph 1: [[0, 0, 0, 0], [0, 0, 1, 1], [0, 1, 0, 0], [0, 1, 0, 0]]\n",
            "Invalid bipartite subgraph found.\n",
            "\n",
            "Sample graph 2: [[0, 0, 0, 1], [0, 0, 1, 0], [0, 1, 0, 1], [1, 0, 1, 0]]\n",
            "Bipartite subgraph found: S = {1, 3}, T = {0, 2}\n",
            "\n",
            "Sample graph 3: [[0, 1, 1, 0], [1, 0, 0, 1], [1, 0, 0, 0], [0, 1, 0, 0]]\n",
            "Bipartite subgraph found: S = {2, 3}, T = {0, 1}\n",
            "\n",
            "Sample graph 4: [[0, 0, 1, 1], [0, 0, 1, 1], [1, 1, 0, 1], [1, 1, 1, 0]]\n",
            "Invalid bipartite subgraph found.\n",
            "\n",
            "Sample graph 5: [[0, 1, 1, 0], [1, 0, 0, 1], [1, 0, 0, 0], [0, 1, 0, 0]]\n",
            "Bipartite subgraph found: S = {2, 3}, T = {0, 1}\n",
            "\n",
            "Sample graph 6: [[0, 0, 0, 0], [0, 0, 0, 1], [0, 0, 0, 0], [0, 1, 0, 0]]\n",
            "Invalid bipartite subgraph found.\n",
            "\n",
            "Sample graph 7: [[0, 0, 0, 1], [0, 0, 1, 1], [0, 1, 0, 0], [1, 1, 0, 0]]\n",
            "Bipartite subgraph found: S = {2, 3}, T = {0, 1}\n",
            "\n",
            "Sample graph 8: [[0, 1, 1, 1], [1, 0, 0, 1], [1, 0, 0, 0], [1, 1, 0, 0]]\n",
            "Bipartite subgraph found: S = {2, 3}, T = {0, 1}\n",
            "\n",
            "Sample graph 9: [[0, 1, 0, 1], [1, 0, 1, 0], [0, 1, 0, 0], [1, 0, 0, 0]]\n",
            "Bipartite subgraph found: S = {2, 3}, T = {0, 1}\n",
            "\n",
            "Sample graph 10: [[0, 0, 0, 1], [0, 0, 1, 1], [0, 1, 0, 1], [1, 1, 1, 0]]\n",
            "Invalid bipartite subgraph found.\n",
            "\n",
            "Sample graph 11: [[0, 0, 0, 1], [0, 0, 1, 1], [0, 1, 0, 1], [1, 1, 1, 0]]\n",
            "Invalid bipartite subgraph found.\n",
            "\n",
            "Sample graph 12: [[0, 0, 1, 1], [0, 0, 0, 0], [1, 0, 0, 0], [1, 0, 0, 0]]\n",
            "Invalid bipartite subgraph found.\n",
            "\n",
            "Sample graph 13: [[0, 0, 1, 0], [0, 0, 1, 0], [1, 1, 0, 1], [0, 0, 1, 0]]\n",
            "Invalid bipartite subgraph found.\n",
            "\n",
            "Sample graph 14: [[0, 0, 1, 0], [0, 0, 0, 0], [1, 0, 0, 0], [0, 0, 0, 0]]\n",
            "Invalid bipartite subgraph found.\n",
            "\n",
            "Sample graph 15: [[0, 0, 0, 0], [0, 0, 0, 0], [0, 0, 0, 0], [0, 0, 0, 0]]\n",
            "Invalid bipartite subgraph found.\n",
            "\n",
            "Sample graph 16: [[0, 0, 0, 0], [0, 0, 1, 0], [0, 1, 0, 0], [0, 0, 0, 0]]\n",
            "Invalid bipartite subgraph found.\n",
            "\n",
            "Sample graph 17: [[0, 1, 0, 1], [1, 0, 0, 0], [0, 0, 0, 1], [1, 0, 1, 0]]\n",
            "Bipartite subgraph found: S = {1, 3}, T = {0, 2}\n",
            "\n",
            "Sample graph 18: [[0, 1, 0, 0], [1, 0, 1, 1], [0, 1, 0, 1], [0, 1, 1, 0]]\n",
            "Bipartite subgraph found: S = {0, 3}, T = {1, 2}\n",
            "\n",
            "Sample graph 19: [[0, 0, 0, 1], [0, 0, 1, 1], [0, 1, 0, 0], [1, 1, 0, 0]]\n",
            "Bipartite subgraph found: S = {2, 3}, T = {0, 1}\n",
            "\n",
            "Sample graph 20: [[0, 0, 0, 1], [0, 0, 0, 1], [0, 0, 0, 0], [1, 1, 0, 0]]\n",
            "Bipartite subgraph found: S = {2, 3}, T = {0, 1}\n",
            "\n"
          ]
        }
      ]
    },
    {
      "cell_type": "code",
      "source": [
        "def is_bipartite(G, subgraph):\n",
        "    S = set()\n",
        "    T = set()\n",
        "    for u, v in subgraph:\n",
        "        if u in S and v in S:\n",
        "            return False\n",
        "        elif u in T and v in T:\n",
        "            return False\n",
        "        S.add(u)\n",
        "        T.add(v)\n",
        "    return True\n",
        "\n",
        "def brute_force_bipartite_subgraph(graph):\n",
        "    n = len(graph)\n",
        "    for i in range(n):\n",
        "        for j in range(i + 1, n):\n",
        "            if graph[i][j] == 1:\n",
        "                subgraph = [(i, j)]\n",
        "                if is_bipartite(graph, subgraph):\n",
        "                    return set(range(n)) - {i, j}\n",
        "    return None\n",
        "\n",
        "def test_bipartite_subgraph():\n",
        "    # Test with a sample bipartite graph\n",
        "    graph1 = [[0, 0, 0, 1],\n",
        "              [0, 0, 1, 0],\n",
        "              [0, 1, 0, 1],\n",
        "              [1, 0, 1, 0]]\n",
        "    bipartite_subgraph1 = brute_force_bipartite_subgraph(graph1)\n",
        "    if bipartite_subgraph1 is not None:\n",
        "        S1 = {v for v in bipartite_subgraph1 if graph1[v][0] == 1}\n",
        "        T1 = {v for v in bipartite_subgraph1 if graph1[v][0] == 0}\n",
        "        print(\"Bipartite subgraph found: S = {}, T = {}\".format(S1, T1))\n",
        "    else:\n",
        "        print(\"No bipartite subgraph found\")\n",
        "    print()\n",
        "\n",
        "    # Test with a sample graph that is not bipartite\n",
        "    graph2 = [[0, 1, 1, 0],\n",
        "              [1, 0, 1, 0],\n",
        "              [1, 1, 0, 1],\n",
        "              [0, 0, 1, 0]]\n",
        "    bipartite_subgraph2 = brute_force_bipartite_subgraph(graph2)\n",
        "    if bipartite_subgraph2 is not None:\n",
        "        S2 = {v for v in bipartite_subgraph2 if graph2[v][0] == 1}\n",
        "        T2 = {v for v in bipartite_subgraph2 if graph2[v][0] == 0}\n",
        "        print(\"Bipartite subgraph found: S = {}, T = {}\".format(S2, T2))\n",
        "    else:\n",
        "        print(\"No bipartite subgraph found\")\n",
        "    print()\n",
        "\n",
        "\n",
        "# Run the test\n",
        "test_bipartite_subgraph()\n"
      ],
      "metadata": {
        "colab": {
          "base_uri": "https://localhost:8080/"
        },
        "id": "EoIw9V504r83",
        "outputId": "37d60e24-3d2f-4374-d765-c5473b6fe18e"
      },
      "execution_count": 121,
      "outputs": [
        {
          "output_type": "stream",
          "name": "stdout",
          "text": [
            "Bipartite subgraph found: S = set(), T = {1, 2}\n",
            "\n",
            "Bipartite subgraph found: S = {2}, T = {3}\n",
            "\n"
          ]
        }
      ]
    }
  ]
}